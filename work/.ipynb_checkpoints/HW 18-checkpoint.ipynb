{
 "cells": [
  {
   "cell_type": "code",
   "execution_count": 1,
   "metadata": {},
   "outputs": [],
   "source": [
    "%matplotlib inline\n",
    "import numpy as np\n",
    "import matplotlib.pyplot as plt\n",
    "import pandas as pd"
   ]
  },
  {
   "cell_type": "code",
   "execution_count": 2,
   "metadata": {},
   "outputs": [
    {
     "name": "stdout",
     "output_type": "stream",
     "text": [
      "我想説：hello\n",
      "神秘人回應您：olleh\n",
      "我想説：tell me something pls\n",
      "神秘人回應您：slp gnihtemos em llet\n",
      "我想説：what u talking about\n",
      "神秘人回應您：tuoba gniklat u tahw\n",
      "我想説：hei speak properly!\n",
      "神秘人回應您：!ylreporp kaeps ieh\n",
      "我想説：BYE\n",
      "神秘人回應您：EYB\n"
     ]
    }
   ],
   "source": [
    "while True:\n",
    "    text = input(\"我想説：\")\n",
    "    print(\"神秘人回應您：\" + text[::-1])\n",
    "    if text == \"BYE\":\n",
    "        break"
   ]
  }
 ],
 "metadata": {
  "kernelspec": {
   "display_name": "Python 3",
   "language": "python",
   "name": "python3"
  },
  "language_info": {
   "codemirror_mode": {
    "name": "ipython",
    "version": 3
   },
   "file_extension": ".py",
   "mimetype": "text/x-python",
   "name": "python",
   "nbconvert_exporter": "python",
   "pygments_lexer": "ipython3",
   "version": "3.7.3"
  }
 },
 "nbformat": 4,
 "nbformat_minor": 2
}
