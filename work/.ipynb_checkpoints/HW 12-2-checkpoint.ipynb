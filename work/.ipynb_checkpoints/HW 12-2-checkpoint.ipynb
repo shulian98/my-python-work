{
 "cells": [
  {
   "cell_type": "code",
   "execution_count": 1,
   "metadata": {},
   "outputs": [],
   "source": [
    "%matplotlib inline\n",
    "import numpy as np\n",
    "import matplotlib.pyplot as plt\n",
    "import pandas as pd"
   ]
  },
  {
   "cell_type": "code",
   "execution_count": 3,
   "metadata": {},
   "outputs": [
    {
     "name": "stdout",
     "output_type": "stream",
     "text": [
      "Please enter the YEAR: 2008\n",
      "2008 is leap year!\n"
     ]
    }
   ],
   "source": [
    "def leap_yr(yr):\n",
    "    if yr % 400 == 0:\n",
    "        return True\n",
    "    elif yr % 4 == 0 and yr % 100 != 0:\n",
    "        return True\n",
    "    else:\n",
    "        return False\n",
    "    \n",
    "yr = int(input(\"Please enter the YEAR: \"))\n",
    "if leap_yr(yr):\n",
    "    print(str(yr) + \" is leap year!\")\n",
    "else:\n",
    "    print(str(yr) + \" is not leap year.\")"
   ]
  }
 ],
 "metadata": {
  "kernelspec": {
   "display_name": "Python 3",
   "language": "python",
   "name": "python3"
  },
  "language_info": {
   "codemirror_mode": {
    "name": "ipython",
    "version": 3
   },
   "file_extension": ".py",
   "mimetype": "text/x-python",
   "name": "python",
   "nbconvert_exporter": "python",
   "pygments_lexer": "ipython3",
   "version": "3.7.3"
  }
 },
 "nbformat": 4,
 "nbformat_minor": 2
}
