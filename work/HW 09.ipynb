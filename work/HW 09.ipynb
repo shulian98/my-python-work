{
 "cells": [
  {
   "cell_type": "code",
   "execution_count": 1,
   "metadata": {},
   "outputs": [],
   "source": [
    "%matplotlib inline\n",
    "import numpy as np\n",
    "import matplotlib.pyplot as plt\n",
    "import pandas as pd"
   ]
  },
  {
   "cell_type": "code",
   "execution_count": 4,
   "metadata": {},
   "outputs": [
    {
     "name": "stdout",
     "output_type": "stream",
     "text": [
      "Radius:3\n",
      "when Radius=3,its Area=28.2744\n"
     ]
    }
   ],
   "source": [
    "class Circle:\n",
    "    pi = 3.1416\n",
    "    r = int(input(\"Radius:\"))\n",
    "    \n",
    "    def getArea(self):\n",
    "        return self.pi*(self.r**2)\n",
    "    \n",
    "c = Circle()\n",
    "print(\"when Radius=\"+str(c.r)+\",its Area=\"+str(c.getArea()))"
   ]
  }
 ],
 "metadata": {
  "kernelspec": {
   "display_name": "Python 3",
   "language": "python",
   "name": "python3"
  },
  "language_info": {
   "codemirror_mode": {
    "name": "ipython",
    "version": 3
   },
   "file_extension": ".py",
   "mimetype": "text/x-python",
   "name": "python",
   "nbconvert_exporter": "python",
   "pygments_lexer": "ipython3",
   "version": "3.7.3"
  }
 },
 "nbformat": 4,
 "nbformat_minor": 2
}
