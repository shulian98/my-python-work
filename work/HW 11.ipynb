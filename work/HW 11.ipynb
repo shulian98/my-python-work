{
 "cells": [
  {
   "cell_type": "code",
   "execution_count": 17,
   "metadata": {},
   "outputs": [],
   "source": [
    "%matplotlib inline\n",
    "import numpy as np\n",
    "import matplotlib.pyplot as plt\n",
    "import pandas as pd"
   ]
  },
  {
   "cell_type": "code",
   "execution_count": 18,
   "metadata": {},
   "outputs": [],
   "source": [
    "words='''\n",
    "快樂  \n",
    "我 \n",
    "你\n",
    "他  \n",
    "幸福  \n",
    "憂鬱 \n",
    "難過 \n",
    "很 \n",
    "天空\n",
    "雨天 \n",
    "太陽\n",
    "颳風 \n",
    "漫步 \n",
    "郊游 \n",
    "旅行 \n",
    "散心 \n",
    "溪谷 \n",
    "爬山 \n",
    "和 \n",
    "一起'''"
   ]
  },
  {
   "cell_type": "code",
   "execution_count": 19,
   "metadata": {},
   "outputs": [],
   "source": [
    "w = words.split('\\n')"
   ]
  },
  {
   "cell_type": "code",
   "execution_count": 20,
   "metadata": {},
   "outputs": [],
   "source": [
    "from numpy.random import randint,choice"
   ]
  },
  {
   "cell_type": "code",
   "execution_count": 21,
   "metadata": {},
   "outputs": [
    {
     "name": "stdout",
     "output_type": "stream",
     "text": [
      "你 散心  幸福   旅行  旅行  太陽\n",
      "快樂   很  溪谷  郊游 \n",
      "天空 太陽 和  難過 \n",
      "和  一起\n"
     ]
    }
   ],
   "source": [
    "n = randint(3,5)\n",
    "for i in range(n):\n",
    "    a = randint(2,8)\n",
    "    b = choice(w,a)\n",
    "    r = ' '.join(b)\n",
    "    print(r)"
   ]
  }
 ],
 "metadata": {
  "kernelspec": {
   "display_name": "Python 3",
   "language": "python",
   "name": "python3"
  },
  "language_info": {
   "codemirror_mode": {
    "name": "ipython",
    "version": 3
   },
   "file_extension": ".py",
   "mimetype": "text/x-python",
   "name": "python",
   "nbconvert_exporter": "python",
   "pygments_lexer": "ipython3",
   "version": "3.7.3"
  }
 },
 "nbformat": 4,
 "nbformat_minor": 2
}
