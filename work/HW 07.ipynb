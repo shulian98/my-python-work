{
 "cells": [
  {
   "cell_type": "code",
   "execution_count": 1,
   "metadata": {},
   "outputs": [],
   "source": [
    "%matplotlib inline\n",
    "import numpy as np\n",
    "import matplotlib.pyplot as plt\n",
    "import pandas as pd"
   ]
  },
  {
   "cell_type": "code",
   "execution_count": 3,
   "metadata": {},
   "outputs": [
    {
     "name": "stdout",
     "output_type": "stream",
     "text": [
      "Ur expected expenditure today: $500\n",
      "Breakfast: $50\n",
      "Lunch: $100\n",
      "Dinner: $120\n",
      "Transportation fee: $60\n",
      "Other: $100\n",
      "\n",
      "Ur actual expenditure is $430\n",
      "LEFT: $70\n"
     ]
    }
   ],
   "source": [
    "m = int(input(\"Ur expected expenditure today: $\"))\n",
    "m1 = int(input(\"Breakfast: $\"))\n",
    "m2 = int(input(\"Lunch: $\"))\n",
    "m3 = int(input(\"Dinner: $\"))\n",
    "m4 = int(input(\"Transportation fee: $\"))\n",
    "m5 = int(input(\"Other: $\"))\n",
    "total = m1+m2+m3+m4+m5\n",
    "left = m - total\n",
    "print(\"\\nUr actual expenditure is $\"+str(total))\n",
    "print(\"LEFT: $\"+str(left))"
   ]
  }
 ],
 "metadata": {
  "kernelspec": {
   "display_name": "Python 3",
   "language": "python",
   "name": "python3"
  },
  "language_info": {
   "codemirror_mode": {
    "name": "ipython",
    "version": 3
   },
   "file_extension": ".py",
   "mimetype": "text/x-python",
   "name": "python",
   "nbconvert_exporter": "python",
   "pygments_lexer": "ipython3",
   "version": "3.7.3"
  }
 },
 "nbformat": 4,
 "nbformat_minor": 2
}
