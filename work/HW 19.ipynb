{
 "cells": [
  {
   "cell_type": "code",
   "execution_count": 1,
   "metadata": {},
   "outputs": [],
   "source": [
    "%matplotlib inline\n",
    "import numpy as np\n",
    "import matplotlib.pyplot as plt\n",
    "import pandas as pd"
   ]
  },
  {
   "cell_type": "code",
   "execution_count": 2,
   "metadata": {},
   "outputs": [
    {
     "name": "stdout",
     "output_type": "stream",
     "text": [
      "Enter Ur Result: 88\n",
      "Credit: 3\n",
      "Continued?! : Yes\n",
      "\n",
      "Enter Ur Result: 55\n",
      "Credit: 2\n",
      "Continued?! : No\n",
      "\n"
     ]
    }
   ],
   "source": [
    "total=0\n",
    "amount=0\n",
    "while True:\n",
    "    grade = input(\"Enter Ur Result: \")\n",
    "    credit = input(\"Credit: \")\n",
    "    total = total + float(grade)*int(credit)\n",
    "    amount = amount + int(credit)\n",
    "    cont = input(\"Continued?! : \")\n",
    "    print()\n",
    "    if cont == \"Yes\":\n",
    "        pass\n",
    "    else:\n",
    "        break"
   ]
  },
  {
   "cell_type": "code",
   "execution_count": 4,
   "metadata": {},
   "outputs": [
    {
     "name": "stdout",
     "output_type": "stream",
     "text": [
      "Ur Result: 74.800000 Grade: B GPA: 3.000000\n"
     ]
    }
   ],
   "source": [
    "avg = total/amount\n",
    "if avg >=90:\n",
    "    print(\"Ur Result: %f Grade: %s GPA: %f\" % (avg,\"A+\",4.3))\n",
    "elif avg>=85:\n",
    "    print(\"Ur Result: %f Grade: %s GPA: %f\" % (avg,\"A\",4.0))\n",
    "elif avg >=80:\n",
    "    print(\"Ur Result: %f Grade: %s GPA: %f\" % (avg,\"A-\",3.7))\n",
    "elif avg >=70:\n",
    "    print(\"Ur Result: %f Grade: %s GPA: %f\" % (avg,\"B\",3.0))\n",
    "elif avg >=60:\n",
    "    print(\"Ur Result: %f Grade: %s GPA: %f\" % (avg,\"C\",2.0))\n",
    "else:\n",
    "    print(\"Ur Result: %f Grade: %s GPA: %f\" % (avg,\"F\",0.0))"
   ]
  }
 ],
 "metadata": {
  "kernelspec": {
   "display_name": "Python 3",
   "language": "python",
   "name": "python3"
  },
  "language_info": {
   "codemirror_mode": {
    "name": "ipython",
    "version": 3
   },
   "file_extension": ".py",
   "mimetype": "text/x-python",
   "name": "python",
   "nbconvert_exporter": "python",
   "pygments_lexer": "ipython3",
   "version": "3.7.3"
  }
 },
 "nbformat": 4,
 "nbformat_minor": 2
}
