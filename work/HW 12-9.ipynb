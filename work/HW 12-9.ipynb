{
 "cells": [
  {
   "cell_type": "code",
   "execution_count": 1,
   "metadata": {},
   "outputs": [],
   "source": [
    "%matplotlib inline\n",
    "import numpy as np\n",
    "import matplotlib.pyplot as plt\n",
    "import pandas as pd"
   ]
  },
  {
   "cell_type": "code",
   "execution_count": 8,
   "metadata": {},
   "outputs": [],
   "source": [
    "from ipywidgets import interact"
   ]
  },
  {
   "cell_type": "code",
   "execution_count": 9,
   "metadata": {},
   "outputs": [],
   "source": [
    "h = [\"scissor\",\"paper\",\"stone\"]\n",
    "r = h[np.random.randint(0,2)]"
   ]
  },
  {
   "cell_type": "code",
   "execution_count": 13,
   "metadata": {},
   "outputs": [
    {
     "name": "stdout",
     "output_type": "stream",
     "text": [
      "paper\n"
     ]
    },
    {
     "data": {
      "application/vnd.jupyter.widget-view+json": {
       "model_id": "1a82e5dbec4c41bf8c425e7140f98a43",
       "version_major": 2,
       "version_minor": 0
      },
      "text/plain": [
       "interactive(children=(Dropdown(description='x', options=('scissor', 'paper', 'stone'), value='scissor'), Outpu…"
      ]
     },
     "metadata": {},
     "output_type": "display_data"
    },
    {
     "data": {
      "text/plain": [
       "<function __main__.g(x)>"
      ]
     },
     "execution_count": 13,
     "metadata": {},
     "output_type": "execute_result"
    }
   ],
   "source": [
    "def getValue(x):\n",
    "    return x\n",
    "\n",
    "def g(x):\n",
    "    X = getValue(x)\n",
    "    if r == X:\n",
    "        print(\"DRAW\")\n",
    "    elif r == \"scissor\":\n",
    "        if X == \"stone\":\n",
    "            print(\"U WIN!\")\n",
    "        else:\n",
    "            print(\"U lose TT\")\n",
    "    elif r == \"paper\":\n",
    "        if X == \"scissor\":\n",
    "            print(\"U WIN!\")\n",
    "        else:\n",
    "            print(\"U lose TT\")\n",
    "    elif r == \"stone\":\n",
    "        if X == \"paper\":\n",
    "            print(\"U WIN!\")\n",
    "        else:\n",
    "            print(\"U lose TT\")\n",
    "x=print(r)\n",
    "interact(g,x=[\"scissor\",\"paper\",\"stone\"])\n"
   ]
  }
 ],
 "metadata": {
  "kernelspec": {
   "display_name": "Python 3",
   "language": "python",
   "name": "python3"
  },
  "language_info": {
   "codemirror_mode": {
    "name": "ipython",
    "version": 3
   },
   "file_extension": ".py",
   "mimetype": "text/x-python",
   "name": "python",
   "nbconvert_exporter": "python",
   "pygments_lexer": "ipython3",
   "version": "3.7.3"
  }
 },
 "nbformat": 4,
 "nbformat_minor": 2
}
