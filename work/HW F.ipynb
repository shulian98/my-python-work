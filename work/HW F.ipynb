{
 "cells": [
  {
   "cell_type": "code",
   "execution_count": 2,
   "metadata": {},
   "outputs": [],
   "source": [
    "%matplotlib inline\n",
    "import numpy as np\n",
    "import matplotlib.pyplot as plt\n",
    "import pandas as pd"
   ]
  },
  {
   "cell_type": "code",
   "execution_count": 3,
   "metadata": {},
   "outputs": [],
   "source": [
    "def roll_dice(dice=3,points=None):\n",
    "    print(\"\\033[1;34;43m~~~~~~~~搖骰子咯~~~~~~~~\\033[0m\")\n",
    "    if points==None:\n",
    "        points=[]\n",
    "    for i in range(dice):\n",
    "        number=np.random.randint(1,7)\n",
    "        points.append(number)\n",
    "    return points"
   ]
  },
  {
   "cell_type": "code",
   "execution_count": 4,
   "metadata": {},
   "outputs": [],
   "source": [
    "def roll_final(total):\n",
    "    small = 3<=total<=10\n",
    "    big = 11<=total<=18\n",
    "    if big:\n",
    "        return \"大\"\n",
    "    elif small:\n",
    "        return \"小\""
   ]
  },
  {
   "cell_type": "code",
   "execution_count": 7,
   "metadata": {},
   "outputs": [],
   "source": [
    "def start_game():\n",
    "    urmoney=500\n",
    "    while urmoney>0:\n",
    "        print(\"\\033[1;34;43m~~~~~~~~GAME_START!!!~~~~~~~~\\033[0m\")\n",
    "        print(f\"Your Money is $ \\033[1;32m{urmoney}\\033[0m.\")\n",
    "        choice = [\"大\",\"小\"]\n",
    "        urchoice=input(\"您猜大或小？：\\033[1;32m\")\n",
    "        if urchoice in choice:\n",
    "            urbet=input(\"\\033[0m下注金額：\\033[1;32m\")\n",
    "            urbet=int(urbet)\n",
    "            urodds=input(\"\\033[0m賠率數字：\\033[1;32m\")\n",
    "            urodds=float(urodds)\n",
    "            points=roll_dice()\n",
    "            total=sum(points)\n",
    "            uWIN = urchoice==roll_final(total)\n",
    "            if uWIN:\n",
    "                urmoney = urmoney+urbet*urodds\n",
    "                print(f\"\\033[0m骰子點數：\\033[1;31m{points}\\033[0m\\n\")\n",
    "                print(f\"\\033[1;30;42m您贏啦啦啦{urbet*urodds}元，您目前共有{urmoney}元。\\033[0m\\n\")\n",
    "            else:\n",
    "                urmoney = urmoney-urbet*urodds\n",
    "                print(f\"\\033[0m骰子點數：\\033[1;31m{points}\\033[0m\\n\")\n",
    "                print(f\"\\033[1;30;42m嗚嗚您輸了{urbet*urodds}元，您目前剩下{urmoney}元。\\033[0m\\n\")\n",
    "        else:\n",
    "            print(\"\\033[1;31m~~~~~~~系統錯誤！請重新輸入！~~~~~~~\\033[0m\\n\")\n",
    "    else:\n",
    "        print(\"\\033[1;40m~~~~~~~破產啦啦啦!GAMEOVER!~~~~~~~\\033[0m\")"
   ]
  },
  {
   "cell_type": "code",
   "execution_count": 8,
   "metadata": {},
   "outputs": [
    {
     "name": "stdout",
     "output_type": "stream",
     "text": [
      "\u001b[1;34;43m~~~~~~~~GAME_START!!!~~~~~~~~\u001b[0m\n",
      "Your Money is $ \u001b[1;32m500\u001b[0m.\n",
      "您猜大或小？：大\n",
      "下注金額：200\n",
      "賠率數字：2\n",
      "\u001b[1;34;43m~~~~~~~~搖骰子咯~~~~~~~~\u001b[0m\n",
      "\u001b[0m骰子點數：\u001b[1;31m[4, 2, 2]\u001b[0m\n",
      "\n",
      "\u001b[1;30;42m嗚嗚您輸了400.0元，您目前剩下100.0元。\u001b[0m\n",
      "\n",
      "\u001b[1;34;43m~~~~~~~~GAME_START!!!~~~~~~~~\u001b[0m\n",
      "Your Money is $ \u001b[1;32m100.0\u001b[0m.\n",
      "您猜大或小？：100\n",
      "\u001b[1;31m~~~~~~~系統錯誤！請重新輸入！~~~~~~~\u001b[0m\n",
      "\n",
      "\u001b[1;34;43m~~~~~~~~GAME_START!!!~~~~~~~~\u001b[0m\n",
      "Your Money is $ \u001b[1;32m100.0\u001b[0m.\n",
      "您猜大或小？：大\n",
      "下注金額：50\n",
      "賠率數字：2\n",
      "\u001b[1;34;43m~~~~~~~~搖骰子咯~~~~~~~~\u001b[0m\n",
      "\u001b[0m骰子點數：\u001b[1;31m[4, 6, 2]\u001b[0m\n",
      "\n",
      "\u001b[1;30;42m您贏啦啦啦100.0元，您目前共有200.0元。\u001b[0m\n",
      "\n",
      "\u001b[1;34;43m~~~~~~~~GAME_START!!!~~~~~~~~\u001b[0m\n",
      "Your Money is $ \u001b[1;32m200.0\u001b[0m.\n",
      "您猜大或小？：200\n",
      "\u001b[1;31m~~~~~~~系統錯誤！請重新輸入！~~~~~~~\u001b[0m\n",
      "\n",
      "\u001b[1;34;43m~~~~~~~~GAME_START!!!~~~~~~~~\u001b[0m\n",
      "Your Money is $ \u001b[1;32m200.0\u001b[0m.\n",
      "您猜大或小？：大\n",
      "下注金額：200\n",
      "賠率數字：2\n",
      "\u001b[1;34;43m~~~~~~~~搖骰子咯~~~~~~~~\u001b[0m\n",
      "\u001b[0m骰子點數：\u001b[1;31m[1, 6, 5]\u001b[0m\n",
      "\n",
      "\u001b[1;30;42m您贏啦啦啦400.0元，您目前共有600.0元。\u001b[0m\n",
      "\n",
      "\u001b[1;34;43m~~~~~~~~GAME_START!!!~~~~~~~~\u001b[0m\n",
      "Your Money is $ \u001b[1;32m600.0\u001b[0m.\n",
      "您猜大或小？：600\n",
      "\u001b[1;31m~~~~~~~系統錯誤！請重新輸入！~~~~~~~\u001b[0m\n",
      "\n",
      "\u001b[1;34;43m~~~~~~~~GAME_START!!!~~~~~~~~\u001b[0m\n",
      "Your Money is $ \u001b[1;32m600.0\u001b[0m.\n",
      "您猜大或小？：大\n",
      "下注金額：600\n",
      "賠率數字：2\n",
      "\u001b[1;34;43m~~~~~~~~搖骰子咯~~~~~~~~\u001b[0m\n",
      "\u001b[0m骰子點數：\u001b[1;31m[3, 4, 2]\u001b[0m\n",
      "\n",
      "\u001b[1;30;42m嗚嗚您輸了1200.0元，您目前剩下-600.0元。\u001b[0m\n",
      "\n",
      "\u001b[1;40m~~~~~~~破產啦啦啦!GAMEOVER!~~~~~~~\u001b[0m\n"
     ]
    }
   ],
   "source": [
    "start_game()"
   ]
  }
 ],
 "metadata": {
  "kernelspec": {
   "display_name": "Python 3",
   "language": "python",
   "name": "python3"
  },
  "language_info": {
   "codemirror_mode": {
    "name": "ipython",
    "version": 3
   },
   "file_extension": ".py",
   "mimetype": "text/x-python",
   "name": "python",
   "nbconvert_exporter": "python",
   "pygments_lexer": "ipython3",
   "version": "3.7.3"
  }
 },
 "nbformat": 4,
 "nbformat_minor": 2
}
